{
 "cells": [
  {
   "cell_type": "code",
   "execution_count": 1,
   "metadata": {},
   "outputs": [
    {
     "name": "stdout",
     "output_type": "stream",
     "text": [
      "Detected IPython. Loading juliacall extension. See https://juliapy.github.io/PythonCall.jl/stable/compat/#IPython\n"
     ]
    },
    {
     "name": "stderr",
     "output_type": "stream",
     "text": [
      "  Activating project at `/shared_ssd_storage/jinleic/repos/PDQP.jl`\n"
     ]
    },
    {
     "name": "stdout",
     "output_type": "stream",
     "text": [
      "GPU is functional\n"
     ]
    }
   ],
   "source": [
    "import numpy as np\n",
    "from juliacall import Main as jl\n",
    "import juliacall\n",
    "from scipy.sparse import csc_matrix\n",
    "\n",
    "jl.seval(\"using Pkg\")\n",
    "jl.seval('Pkg.activate(\"./\")')\n",
    "jl.seval(\"Pkg.instantiate()\")\n",
    "jl.seval(\"using ArgParse\")\n",
    "jl.seval(\"using GZip\")\n",
    "jl.seval(\"using JSON3\")\n",
    "jl.seval(\"using CUDA\")\n",
    "jl.seval(\"using SparseArrays\")\n",
    "jl.seval(\"using PDQP\")\n",
    "if jl.CUDA.functional():\n",
    "    print(\"GPU is functional\")\n",
    "else:\n",
    "    print(\"GPU is not functional\")\n",
    "jl.seval('include(\"scripts/solve.jl\")')\n",
    "\n",
    "gpu_flag = False\n",
    "\n",
    "# Define the tolerance and time_sec_limit (provide your own values)\n",
    "tolerance = 1e-5  # Example tolerance value\n",
    "time_sec_limit = 3600  # Example time limit in seconds"
   ]
  },
  {
   "cell_type": "code",
   "execution_count": 2,
   "metadata": {},
   "outputs": [
    {
     "name": "stdout",
     "output_type": "stream",
     "text": [
      "PDQP.QuadraticProgrammingProblem(5, 0, [0.0, 0.0, 0.0, 0.0, 0.0], [1.0, 1.0, 1.0, 1.0, 1.0], Bool[0, 0, 0, 0, 0], Bool[0, 0, 0, 0, 0], sparse([1, 2, 1, 2, 3, 2, 3, 4, 3, 4, 5, 4, 5], [1, 1, 2, 2, 2, 3, 3, 3, 4, 4, 4, 5, 5], [4.0, 1.0, 1.0, 3.0, 1.0, 1.0, 2.0, 1.0, 1.0, 3.0, 1.0, 1.0, 4.0], 5, 5), [1.0, 1.0, 1.0, 1.0, 1.0], 0.0, sparse([1, 2, 3, 4, 5], [1, 2, 3, 4, 5], [1.0, 1.0, 1.0, 1.0, 1.0], 5, 5), sparse([1, 2, 3, 4, 5], [1, 2, 3, 4, 5], [1.0, 1.0, 1.0, 1.0, 1.0], 5, 5), [0.0, 0.0, 0.0, 0.0, 0.0], 0)\n"
     ]
    }
   ],
   "source": [
    "n = 5\n",
    "Q = np.array(\n",
    "    [\n",
    "        [4, 1, 0, 0, 0],\n",
    "        [1, 3, 1, 0, 0],\n",
    "        [0, 1, 2, 1, 0],\n",
    "        [0, 0, 1, 3, 1],\n",
    "        [0, 0, 0, 1, 4],\n",
    "    ]\n",
    ")\n",
    "w = np.array([1, 1, 1, 1, 1])\n",
    "\n",
    "\n",
    "num_variables = n\n",
    "num_constraints = 0  # No additional constraints beyond 0 <= x <= 1\n",
    "variable_lower_bound = np.zeros(n)\n",
    "variable_upper_bound = np.ones(n)\n",
    "isfinite_variable_lower_bound = np.zeros(n, dtype=bool)\n",
    "isfinite_variable_upper_bound = np.zeros(n, dtype=bool)\n",
    "objective_constant = 0.0\n",
    "constraint_matrix = np.identity(n)  # No additional constraints\n",
    "right_hand_side = np.zeros(n)  # No constraints\n",
    "num_equalities = 0\n",
    "\n",
    "Q_julia = jl.convert(jl.SparseMatrixCSC, Q)\n",
    "\n",
    "constraint_matrix_julia = jl.convert(jl.SparseMatrixCSC, constraint_matrix)\n",
    "\n",
    "qp = jl.PDQP.QuadraticProgrammingProblem(\n",
    "    num_variables,\n",
    "    num_constraints,\n",
    "    variable_lower_bound.tolist(),\n",
    "    variable_upper_bound.tolist(),\n",
    "    isfinite_variable_lower_bound.tolist(),\n",
    "    isfinite_variable_upper_bound.tolist(),\n",
    "    Q_julia,\n",
    "    w.tolist(),\n",
    "    objective_constant,\n",
    "    constraint_matrix_julia,\n",
    "    constraint_matrix_julia,\n",
    "    right_hand_side.tolist(),\n",
    "    num_equalities,\n",
    ")\n",
    "\n",
    "print(qp)\n",
    "\n",
    "# Construct restart parameters\n",
    "restart_params = jl.PDQP.construct_restart_parameters(\n",
    "    jl.PDQP.ADAPTIVE_KKT,  # NO_RESTARTS FIXED_FREQUENCY ADAPTIVE_KKT\n",
    "    jl.PDQP.KKT_GREEDY,  # NO_RESTART_TO_CURRENT KKT_GREEDY\n",
    "    1000,  # restart_frequency_if_fixed\n",
    "    0.36,  # artificial_restart_threshold\n",
    "    0.2,  # sufficient_reduction_for_restart\n",
    "    0.8,  # necessary_reduction_for_restart\n",
    "    0.2,  # primal_weight_update_smoothing\n",
    ")\n",
    "\n",
    "# Construct termination criteria\n",
    "termination_params = jl.PDQP.construct_termination_criteria(\n",
    "    eps_optimal_absolute=tolerance,\n",
    "    eps_optimal_relative=tolerance,\n",
    "    time_sec_limit=time_sec_limit,\n",
    "    iteration_limit=jl.typemax(jl.Int32),\n",
    "    kkt_matrix_pass_limit=jl.Inf,\n",
    ")\n",
    "\n",
    "# Construct PDHG parameters\n",
    "params = jl.PDQP.PdhgParameters(\n",
    "    10,\n",
    "    True,\n",
    "    1.0,\n",
    "    1.0,\n",
    "    True,\n",
    "    2,\n",
    "    True,\n",
    "    40,\n",
    "    termination_params,\n",
    "    restart_params,\n",
    "    jl.PDQP.ConstantStepsizeParams(),\n",
    ")"
   ]
  },
  {
   "cell_type": "code",
   "execution_count": 3,
   "metadata": {},
   "outputs": [
    {
     "name": "stdout",
     "output_type": "stream",
     "text": [
      "PDQP.QuadraticProgrammingProblem(2, 1, [0.0, 1.0], [1.0, 2.0], Bool[1, 1], Bool[1, 1], sparse([1, 2, 1, 2], [1, 1, 2, 2], [2.0, 2.0, 2.0, 4.0], 2, 2), [2.0, -1.0], 0.0, sparse([1, 1], [1, 2], [-1.0, -1.0], 1, 2), sparse([1, 2], [1, 1], [-1.0, -1.0], 2, 1), [-3.0], 0)\n"
     ]
    }
   ],
   "source": [
    "import numpy as np\n",
    "from juliacall import Main as jl\n",
    "\n",
    "jl.seval('using SparseArrays')\n",
    "\n",
    "Q = np.array([\n",
    "    [2, 2],\n",
    "    [2, 4]\n",
    "])\n",
    "\n",
    "w = np.array([2.0, -1.0])\n",
    "\n",
    "num_variables = 2\n",
    "num_constraints = 1\n",
    "variable_lower_bound = np.array([0.0, 1.0])\n",
    "variable_upper_bound = np.array([1.0, 2.0])\n",
    "isfinite_variable_lower_bound = np.array([True, True])\n",
    "isfinite_variable_upper_bound = np.array([True, True])\n",
    "\n",
    "constraint_matrix_dense = np.array([[-1.0, -1.0]])\n",
    "\n",
    "constraint_matrix_t_dense = constraint_matrix_dense.T\n",
    "\n",
    "right_hand_side = np.array([-3.0])\n",
    "\n",
    "constraint_lower_bound = np.array([-np.inf])\n",
    "constraint_upper_bound = np.array([3.0])\n",
    "\n",
    "num_equalities = 0\n",
    "\n",
    "Q_julia = jl.convert(jl.SparseMatrixCSC, Q)\n",
    "constraint_matrix_julia = jl.convert(jl.SparseMatrixCSC, constraint_matrix_dense)\n",
    "constraint_matrix_t_julia = jl.convert(jl.SparseMatrixCSC, constraint_matrix_t_dense)\n",
    "\n",
    "qp = jl.PDQP.QuadraticProgrammingProblem(\n",
    "    num_variables,\n",
    "    num_constraints,\n",
    "    variable_lower_bound.tolist(),\n",
    "    variable_upper_bound.tolist(),\n",
    "    isfinite_variable_lower_bound.tolist(),\n",
    "    isfinite_variable_upper_bound.tolist(),\n",
    "    Q_julia,\n",
    "    w.tolist(),\n",
    "    0.0,  # Objective offset\n",
    "    constraint_matrix_julia,\n",
    "    constraint_matrix_t_julia,\n",
    "    right_hand_side.tolist(),\n",
    "    num_equalities\n",
    ")\n",
    "\n",
    "print(qp)\n"
   ]
  },
  {
   "cell_type": "code",
   "execution_count": 4,
   "metadata": {},
   "outputs": [
    {
     "name": "stdout",
     "output_type": "stream",
     "text": [
      "Warm Start ??\n",
      "PDQP.QuadraticProgrammingProblem(2, 1, [0.0, 1.0], [1.0, 2.0], Bool[1, 1], Bool[1, 1], sparse([1, 2, 1, 2], [1, 1, 2, 2], [2.0, 2.0, 2.0, 4.0], 2, 2), [2.0, -1.0], 0.0, sparse([1, 1], [1, 2], [-1.0, -1.0], 1, 2), sparse([1, 2], [1, 1], [-1.0, -1.0], 2, 1), [-3.0], 0)\n",
      "runtime                  | residuals                  |  solution information      | relative residuals      |\n",
      "#iter   #kkt     seconds | pr norm  du norm   gap     |  pr obj   pr norm  du norm | rel pr  rel du  rel gap |\n",
      "0       3.6e+01  1.2e+00 | 6.8e-01  0.0e+00   2.5e+00 |  5.1e-01  4.2e-01  0.0e+00 | 1.7e-01 0.0e+00 8.4e-01 |\n",
      "1       3.9e+01  1.7e+00 | 0.0e+00  0.0e+00   0.0e+00 |  1.0e+00  1.0e+00  0.0e+00 | 0.0e+00 0.0e+00 0.0e+00 |\n",
      "Avg solution:\n",
      "  pr_infeas=           0 pr_obj=              1 dual_infeas=           0 dual_obj=              1\n",
      "  primal norms: L1=    3.116593381, L2=    3.116593381, Linf=    3.116593381\n",
      "  dual norms:   L1=              0, L2=              0, Linf=              0\n",
      "[0. 1.]\n",
      "Terminated after 2 iterations: OPTIMAL\n"
     ]
    }
   ],
   "source": [
    "print(\"Warm Start ??\")\n",
    "ini = np.array([1,1])\n",
    "print(qp)\n",
    "if gpu_flag:\n",
    "    output = jl.PDQP.optimize_gpu(params, qp, juliacall.convert(jl.Vector[jl.Float64], ini))\n",
    "else:\n",
    "    output = jl.PDQP.optimize(params, qp, juliacall.convert(jl.Vector[jl.Float64], ini))\n",
    "result = output.primal_solution\n",
    "res = np.array(result)\n",
    "print(res)"
   ]
  },
  {
   "cell_type": "code",
   "execution_count": 5,
   "metadata": {},
   "outputs": [
    {
     "name": "stdout",
     "output_type": "stream",
     "text": [
      "Cold Start\n",
      "PDQP.QuadraticProgrammingProblem(2, 1, [0.0, 1.0], [1.0, 2.0], Bool[1, 1], Bool[1, 1], sparse([1, 2, 1, 2], [1, 1, 2, 2], [2.0, 2.0, 2.0, 4.0], 2, 2), [2.0, -1.0], 0.0, sparse([1, 1], [1, 2], [-1.0, -1.0], 1, 2), sparse([1, 2], [1, 1], [-1.0, -1.0], 2, 1), [-3.0], 0)\n",
      "runtime                  | residuals                  |  solution information      | relative residuals      |\n",
      "#iter   #kkt     seconds | pr norm  du norm   gap     |  pr obj   pr norm  du norm | rel pr  rel du  rel gap |\n",
      "0       3.6e+01  1.2e-04 | 1.0e+00  0.0e+00   2.0e+00 |  0.0e+00  0.0e+00  0.0e+00 | 2.5e-01 0.0e+00 6.7e-01 |\n",
      "1       3.9e+01  2.2e-04 | 0.0e+00  0.0e+00   0.0e+00 |  1.0e+00  1.0e+00  0.0e+00 | 0.0e+00 0.0e+00 0.0e+00 |\n",
      "Avg solution:\n",
      "  pr_infeas=           0 pr_obj=              1 dual_infeas=           0 dual_obj=              1\n",
      "  primal norms: L1=    3.116593381, L2=    3.116593381, Linf=    3.116593381\n",
      "  dual norms:   L1=              0, L2=              0, Linf=              0\n",
      "[0. 1.]\n",
      "Terminated after 2 iterations: OPTIMAL\n"
     ]
    }
   ],
   "source": [
    "print(\"Cold Start\")\n",
    "ini = np.array([0,0])\n",
    "print(qp)\n",
    "if gpu_flag:\n",
    "    output = jl.PDQP.optimize_gpu(params, qp, juliacall.convert(jl.Vector[jl.Float64], ini))\n",
    "else:\n",
    "    output = jl.PDQP.optimize(params, qp, juliacall.convert(jl.Vector[jl.Float64], ini))\n",
    "result = output.primal_solution\n",
    "res = np.array(result)\n",
    "print(res)"
   ]
  },
  {
   "cell_type": "code",
   "execution_count": 6,
   "metadata": {},
   "outputs": [
    {
     "name": "stdout",
     "output_type": "stream",
     "text": [
      "Julia load mps instance:\n",
      "PDQP.QuadraticProgrammingProblem(2, 1, [0.0, 1.0], [1.0, 2.0], Bool[1, 1], Bool[1, 1], sparse([1, 2, 1, 2], [1, 1, 2, 2], [2.0, 2.0, 2.0, 4.0], 2, 2), [2.0, -1.0], 0.0, sparse([1, 1], [1, 2], [-1.0, -1.0], 1, 2), sparse([1, 2], [1, 1], [-1.0, -1.0], 2, 1), [-3.0], 0)\n",
      "runtime                  | residuals                  |  solution information      | relative residuals      |\n",
      "#iter   #kkt     seconds | pr norm  du norm   gap     |  pr obj   pr norm  du norm | rel pr  rel du  rel gap |\n",
      "0       3.6e+01  4.5e-04 | 1.0e+00  0.0e+00   2.0e+00 |  0.0e+00  0.0e+00  0.0e+00 | 2.5e-01 0.0e+00 6.7e-01 |\n",
      "1       3.9e+01  5.6e-04 | 0.0e+00  0.0e+00   0.0e+00 |  1.0e+00  1.0e+00  0.0e+00 | 0.0e+00 0.0e+00 0.0e+00 |\n",
      "Avg solution:\n",
      "  pr_infeas=           0 pr_obj=              1 dual_infeas=           0 dual_obj=              1\n",
      "  primal norms: L1=    3.116593381, L2=    3.116593381, Linf=    3.116593381\n",
      "  dual norms:   L1=              0, L2=              0, Linf=              0\n",
      "[0. 1.]\n",
      "Terminated after 2 iterations: OPTIMAL\n"
     ]
    }
   ],
   "source": [
    "print(\"Julia load mps instance:\")\n",
    "qp = jl.PDQP.qps_reader_to_standard_form(\"./trivial_qp_model.mps\")\n",
    "print(qp)\n",
    "if gpu_flag:\n",
    "    output = jl.PDQP.optimize_gpu(params, qp)\n",
    "else:\n",
    "    output = jl.PDQP.optimize(params, qp)\n",
    "\n",
    "result = output.primal_solution\n",
    "res = np.array(result)\n",
    "print(res)"
   ]
  },
  {
   "cell_type": "code",
   "execution_count": null,
   "metadata": {},
   "outputs": [],
   "source": []
  }
 ],
 "metadata": {
  "kernelspec": {
   "display_name": "Python 3",
   "language": "python",
   "name": "python3"
  },
  "language_info": {
   "codemirror_mode": {
    "name": "ipython",
    "version": 3
   },
   "file_extension": ".py",
   "mimetype": "text/x-python",
   "name": "python",
   "nbconvert_exporter": "python",
   "pygments_lexer": "ipython3",
   "version": "3.9.18"
  }
 },
 "nbformat": 4,
 "nbformat_minor": 2
}
